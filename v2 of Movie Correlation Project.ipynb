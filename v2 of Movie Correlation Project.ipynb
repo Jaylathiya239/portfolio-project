{
 "cells": [
  {
   "cell_type": "code",
   "execution_count": null,
   "id": "31ef10a7-8ba8-4fa4-8137-88f7a0254cf1",
   "metadata": {},
   "outputs": [],
   "source": [
    "import pandas as pd\n",
    "import seaborn as sns\n",
    "import numpy as np\n",
    "import matplotlib\n",
    "import matplotlib.pyplot as plt\n",
    "plt.style.use('ggplot')\n",
    "from matplotlib.pyplot import figure\n",
    "\n",
    "pd.options.mode.chained_assignment = None\n",
    "\n",
    "%matplotlib inline\n",
    "matplotlib.rcParams['figure.figsize'] = (12, 8)"
   ]
  },
  {
   "cell_type": "code",
   "execution_count": null,
   "id": "47231080-7443-4b9d-a552-563d5f39a7f3",
   "metadata": {},
   "outputs": [],
   "source": [
    "# Read in the data.\n",
    "df = pd.read_csv(r\"D:\\Projects\\Python project\\Jupyter Notebook's files\\movies.csv\")"
   ]
  },
  {
   "cell_type": "code",
   "execution_count": null,
   "id": "65710d4c-daaf-4722-bc83-665e73defa14",
   "metadata": {},
   "outputs": [],
   "source": [
    "# Now looks at the data\n",
    "df.head()"
   ]
  },
  {
   "cell_type": "code",
   "execution_count": null,
   "id": "f3136cfc-dd30-44f9-a658-cc521fd3d9ec",
   "metadata": {},
   "outputs": [],
   "source": [
    "# Let's see if there is any missing data.\n",
    "\n",
    "for col in df.columns:\n",
    "    pct_missing = np.mean(df[col].isnull())\n",
    "    print('{} - {}%'.format(col, round(pct_missing*100)))"
   ]
  },
  {
   "cell_type": "code",
   "execution_count": null,
   "id": "ee3919b8-7676-4fa7-aae3-c7e35f72f6c6",
   "metadata": {},
   "outputs": [],
   "source": [
    "# Data types of columns\n",
    "print(df.dtypes)"
   ]
  },
  {
   "cell_type": "code",
   "execution_count": null,
   "id": "e8b3d1ea-1870-4cfc-8c42-26cacb9dbd21",
   "metadata": {},
   "outputs": [],
   "source": [
    "# change data type of columns\n",
    "df['budget'] = df['budget'].astype('int64')\n",
    "\n",
    "df['gross'] = df['gross'].astype('int64')"
   ]
  },
  {
   "cell_type": "code",
   "execution_count": null,
   "id": "d420532d-fe90-477d-a14f-57d532eb17f3",
   "metadata": {},
   "outputs": [],
   "source": [
    "df"
   ]
  },
  {
   "cell_type": "code",
   "execution_count": null,
   "id": "2f561b73-3c30-4d88-90ab-caca53c2b58e",
   "metadata": {},
   "outputs": [],
   "source": [
    "# Create correct Year Column\n",
    "\n",
    "df['yearcorrect'] = df['released'].astype(str).str[:4]\n",
    "\n",
    "df"
   ]
  },
  {
   "cell_type": "code",
   "execution_count": null,
   "id": "0f7d8aee-eecf-4018-ad51-d5277d898d02",
   "metadata": {},
   "outputs": [],
   "source": [
    "df = df.sort_values(by=['gross'], inplace=False, ascending=False)"
   ]
  },
  {
   "cell_type": "code",
   "execution_count": null,
   "id": "1e68ae05-4835-4054-830c-6fdb3f220081",
   "metadata": {},
   "outputs": [],
   "source": [
    "pd.set_option('display.max_rows', None)"
   ]
  },
  {
   "cell_type": "code",
   "execution_count": null,
   "id": "ceb6aa42-6ffd-415f-ab8e-b2ca18c04a78",
   "metadata": {},
   "outputs": [],
   "source": [
    "# Drop any duplicates\n",
    "\n",
    "df['company'].drop_duplicates()"
   ]
  },
  {
   "cell_type": "code",
   "execution_count": null,
   "id": "20eac8d6-b193-46e9-ae64-a9822b3caf97",
   "metadata": {},
   "outputs": [],
   "source": [
    "df.head()"
   ]
  },
  {
   "cell_type": "code",
   "execution_count": null,
   "id": "dc2af77c-8d69-4c04-b0e8-68462ea1a855",
   "metadata": {},
   "outputs": [],
   "source": [
    "# Budget high Correlation\n",
    "# Company high Correlation\n"
   ]
  },
  {
   "cell_type": "code",
   "execution_count": null,
   "id": "bfbc5cb7-03d5-4061-9b86-3c1da4394793",
   "metadata": {},
   "outputs": [],
   "source": [
    "# Scatter plot with Budget vs gross\n",
    "\n",
    "plt.scatter(x=df['budget'], y=df['gross'])\n",
    "\n",
    "plt.title('Budget vs Gross Earnings')\n",
    "\n",
    "plt.xlabel('Gross Earnings')\n",
    "\n",
    "plt.ylabel('Budget for Film')\n",
    "\n",
    "plt.show()"
   ]
  },
  {
   "cell_type": "code",
   "execution_count": null,
   "id": "75678843-8a47-4a64-84ce-d3c7542d4f58",
   "metadata": {},
   "outputs": [],
   "source": [
    "df.head()"
   ]
  },
  {
   "cell_type": "code",
   "execution_count": null,
   "id": "50ae4639-4db8-4fde-92b8-4f2c94fcb112",
   "metadata": {},
   "outputs": [],
   "source": [
    "# Plot budget vs gross using seaborn\n",
    "\n",
    "sns.regplot(x='budget', y='gross', data=df, scatter_kws={\"color\" : \"red\"}, line_kws={\"color\" : \"blue\"})"
   ]
  },
  {
   "cell_type": "code",
   "execution_count": null,
   "id": "9785ce50-c09a-4590-add8-c0dd6a03072e",
   "metadata": {},
   "outputs": [],
   "source": [
    "# Let's start looking at correlation"
   ]
  },
  {
   "cell_type": "code",
   "execution_count": null,
   "id": "67c7ded9-2037-4cef-8c99-e0feda7b5e82",
   "metadata": {},
   "outputs": [],
   "source": [
    "df.corr(method = 'pearson') # pearson, spearman, kendall"
   ]
  },
  {
   "cell_type": "code",
   "execution_count": null,
   "id": "8e7294e1-86b2-48b2-be38-6763fe337dfb",
   "metadata": {},
   "outputs": [],
   "source": [
    "# high corrleation between budget vs gross\n",
    "# i was right"
   ]
  },
  {
   "cell_type": "code",
   "execution_count": null,
   "id": "3d33db80-128c-49c0-96ba-1c99abdf5fd4",
   "metadata": {},
   "outputs": [],
   "source": [
    "correlation_matrix = df.corr(method='pearson')\n",
    "\n",
    "sns.heatmap(correlation_matrix, annot=True)\n",
    "\n",
    "plt.title('Correlation Matrix for Numeric Features')\n",
    "\n",
    "plt.xlabel('Movie Features')\n",
    "\n",
    "plt.ylabel('Movie Features')\n",
    "\n",
    "plt.show()"
   ]
  },
  {
   "cell_type": "code",
   "execution_count": null,
   "id": "98bbebe7-2ee2-4e04-8ab6-c21002387ede",
   "metadata": {},
   "outputs": [],
   "source": [
    "# Looks at Company\n",
    "\n",
    "df.head()"
   ]
  },
  {
   "cell_type": "code",
   "execution_count": null,
   "id": "2da17e97-e6b3-44d1-b748-de6649a08269",
   "metadata": {},
   "outputs": [],
   "source": [
    "df_numerized = df\n",
    "\n",
    "for col_name in df_numerized.columns:\n",
    "    if(df_numerized[col_name].dtype == 'object'):\n",
    "        df_numerized[col_name] = df_numerized[col_name].astype('category')\n",
    "        df_numerized[col_name] = df_numerized[col_name].cat.codes\n",
    "\n",
    "\n",
    "df_numerized.head()"
   ]
  },
  {
   "cell_type": "code",
   "execution_count": null,
   "id": "009b32e7-4e58-4f5e-9f49-34fbe2de4741",
   "metadata": {},
   "outputs": [],
   "source": [
    "df"
   ]
  },
  {
   "cell_type": "code",
   "execution_count": null,
   "id": "f46b9129-715f-4d31-9794-97d595182a44",
   "metadata": {},
   "outputs": [],
   "source": [
    "correlation_matrix = df_numerized.corr(method='pearson')\n",
    "\n",
    "sns.heatmap(correlation_matrix, annot=True)\n",
    "\n",
    "plt.title('Correlation Matrix for Numeric Features')\n",
    "\n",
    "plt.xlabel('Movie Features')\n",
    "\n",
    "plt.ylabel('Movie Features')\n",
    "\n",
    "plt.show()"
   ]
  },
  {
   "cell_type": "code",
   "execution_count": null,
   "id": "554da4d4-aee6-4f08-8b1d-761834c2b7f8",
   "metadata": {},
   "outputs": [],
   "source": [
    "df_numerized.corr()"
   ]
  },
  {
   "cell_type": "code",
   "execution_count": null,
   "id": "66149188-493d-419f-aa8f-dcc998beb6f1",
   "metadata": {},
   "outputs": [],
   "source": [
    "correlation_mat = df_numerized.corr()\n",
    "\n",
    "corr_pairs = correlation_mat.unstack()\n",
    "\n",
    "corr_pairs"
   ]
  },
  {
   "cell_type": "code",
   "execution_count": null,
   "id": "739f31dd-eb78-446a-8bf7-9d52a8735c35",
   "metadata": {},
   "outputs": [],
   "source": [
    "sorted_pairs = corr_pairs.sort_values()\n",
    "\n",
    "sorted_pairs"
   ]
  },
  {
   "cell_type": "code",
   "execution_count": null,
   "id": "91d3d8fa-598c-4304-908d-2b02b37c31b3",
   "metadata": {},
   "outputs": [],
   "source": [
    "high_corr = sorted_pairs[(sorted_pairs) > 0.5]\n",
    "\n",
    "high_corr"
   ]
  },
  {
   "cell_type": "code",
   "execution_count": null,
   "id": "101e989f-60d8-4572-bf09-bd5a421c547a",
   "metadata": {},
   "outputs": [],
   "source": [
    "# Votes and Budget have the highest correlations to gross earnings\n",
    "\n",
    "# Company has low correlation\n",
    "# I was wrong"
   ]
  },
  {
   "cell_type": "code",
   "execution_count": null,
   "id": "bbc669a1-2871-4f9f-ba83-bc2623706927",
   "metadata": {},
   "outputs": [],
   "source": []
  },
  {
   "cell_type": "code",
   "execution_count": null,
   "id": "cac08068-a006-4dd3-b377-de024e930f98",
   "metadata": {},
   "outputs": [],
   "source": []
  }
 ],
 "metadata": {
  "kernelspec": {
   "display_name": "Python 3 (ipykernel)",
   "language": "python",
   "name": "python3"
  },
  "language_info": {
   "codemirror_mode": {
    "name": "ipython",
    "version": 3
   },
   "file_extension": ".py",
   "mimetype": "text/x-python",
   "name": "python",
   "nbconvert_exporter": "python",
   "pygments_lexer": "ipython3",
   "version": "3.11.7"
  }
 },
 "nbformat": 4,
 "nbformat_minor": 5
}
